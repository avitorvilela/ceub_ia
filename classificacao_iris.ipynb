{
  "nbformat": 4,
  "nbformat_minor": 0,
  "metadata": {
    "colab": {
      "name": "classificacao_iris",
      "provenance": [],
      "collapsed_sections": [],
      "toc_visible": true,
      "mount_file_id": "1anL0sFFxkJGm0y0wcwdrvwuk3UyfxXXT",
      "authorship_tag": "ABX9TyMH6tzoteve4gjTxrD8bE95",
      "include_colab_link": true
    },
    "kernelspec": {
      "name": "python3",
      "display_name": "Python 3"
    },
    "language_info": {
      "name": "python"
    }
  },
  "cells": [
    {
      "cell_type": "markdown",
      "metadata": {
        "id": "view-in-github",
        "colab_type": "text"
      },
      "source": [
        "<a href=\"https://colab.research.google.com/github/avitorvilela/ceub_ia/blob/main/classificacao_iris.ipynb\" target=\"_parent\"><img src=\"https://colab.research.google.com/assets/colab-badge.svg\" alt=\"Open In Colab\"/></a>"
      ]
    },
    {
      "cell_type": "markdown",
      "source": [
        "Vamos inciar o desenvolvimento da árvore de decisão que classificará Iris. Para isso, vamos carregar o arquivo de texto iris.data para o Python. Vamos utilizar o Pandas."
      ],
      "metadata": {
        "id": "QOgxvKUzy7x4"
      }
    },
    {
      "cell_type": "code",
      "execution_count": null,
      "metadata": {
        "id": "_wu3BJB-uLO6"
      },
      "outputs": [],
      "source": [
        "import pandas as pd"
      ]
    },
    {
      "cell_type": "code",
      "source": [
        "nomeColunas = ['alturaSepala', 'larguraSepala', 'alturaPetala', 'larguraPetala', 'classe']\n",
        "df = pd.read_csv(\"/content/iris.data\", names=nomeColunas)\n",
        "print(f\"Qtd. de linhas: {len(df)}\")\n",
        "print(f\"Qtd. de colunas: {len(df.columns)}\")"
      ],
      "metadata": {
        "colab": {
          "base_uri": "https://localhost:8080/"
        },
        "id": "uqL1ANa-wSKU",
        "outputId": "915f76f9-15f8-4968-8519-a8ea4c057061"
      },
      "execution_count": null,
      "outputs": [
        {
          "output_type": "stream",
          "name": "stdout",
          "text": [
            "Qtd. de linhas: 150\n",
            "Qtd. de colunas: 5\n"
          ]
        }
      ]
    },
    {
      "cell_type": "markdown",
      "source": [
        "Uma vez que carregamos os dados do arquivo CSV para a variável ***df***, vamos ver como ficou o dataFrame."
      ],
      "metadata": {
        "id": "9NqiYfA403L9"
      }
    },
    {
      "cell_type": "code",
      "source": [
        "df.head()\n",
        "# df.tail()"
      ],
      "metadata": {
        "colab": {
          "base_uri": "https://localhost:8080/",
          "height": 206
        },
        "id": "105PAY1h1B3u",
        "outputId": "c023621e-d5e3-4828-92cb-6cf7355d3d8d"
      },
      "execution_count": null,
      "outputs": [
        {
          "output_type": "execute_result",
          "data": {
            "text/plain": [
              "   alturaSepala  larguraSepala  alturaPetala  larguraPetala       classe\n",
              "0           5.1            3.5           1.4            0.2  Iris-setosa\n",
              "1           4.9            3.0           1.4            0.2  Iris-setosa\n",
              "2           4.7            3.2           1.3            0.2  Iris-setosa\n",
              "3           4.6            3.1           1.5            0.2  Iris-setosa\n",
              "4           5.0            3.6           1.4            0.2  Iris-setosa"
            ],
            "text/html": [
              "\n",
              "  <div id=\"df-c9115c6d-3051-418e-a68a-c5742e2512d0\">\n",
              "    <div class=\"colab-df-container\">\n",
              "      <div>\n",
              "<style scoped>\n",
              "    .dataframe tbody tr th:only-of-type {\n",
              "        vertical-align: middle;\n",
              "    }\n",
              "\n",
              "    .dataframe tbody tr th {\n",
              "        vertical-align: top;\n",
              "    }\n",
              "\n",
              "    .dataframe thead th {\n",
              "        text-align: right;\n",
              "    }\n",
              "</style>\n",
              "<table border=\"1\" class=\"dataframe\">\n",
              "  <thead>\n",
              "    <tr style=\"text-align: right;\">\n",
              "      <th></th>\n",
              "      <th>alturaSepala</th>\n",
              "      <th>larguraSepala</th>\n",
              "      <th>alturaPetala</th>\n",
              "      <th>larguraPetala</th>\n",
              "      <th>classe</th>\n",
              "    </tr>\n",
              "  </thead>\n",
              "  <tbody>\n",
              "    <tr>\n",
              "      <th>0</th>\n",
              "      <td>5.1</td>\n",
              "      <td>3.5</td>\n",
              "      <td>1.4</td>\n",
              "      <td>0.2</td>\n",
              "      <td>Iris-setosa</td>\n",
              "    </tr>\n",
              "    <tr>\n",
              "      <th>1</th>\n",
              "      <td>4.9</td>\n",
              "      <td>3.0</td>\n",
              "      <td>1.4</td>\n",
              "      <td>0.2</td>\n",
              "      <td>Iris-setosa</td>\n",
              "    </tr>\n",
              "    <tr>\n",
              "      <th>2</th>\n",
              "      <td>4.7</td>\n",
              "      <td>3.2</td>\n",
              "      <td>1.3</td>\n",
              "      <td>0.2</td>\n",
              "      <td>Iris-setosa</td>\n",
              "    </tr>\n",
              "    <tr>\n",
              "      <th>3</th>\n",
              "      <td>4.6</td>\n",
              "      <td>3.1</td>\n",
              "      <td>1.5</td>\n",
              "      <td>0.2</td>\n",
              "      <td>Iris-setosa</td>\n",
              "    </tr>\n",
              "    <tr>\n",
              "      <th>4</th>\n",
              "      <td>5.0</td>\n",
              "      <td>3.6</td>\n",
              "      <td>1.4</td>\n",
              "      <td>0.2</td>\n",
              "      <td>Iris-setosa</td>\n",
              "    </tr>\n",
              "  </tbody>\n",
              "</table>\n",
              "</div>\n",
              "      <button class=\"colab-df-convert\" onclick=\"convertToInteractive('df-c9115c6d-3051-418e-a68a-c5742e2512d0')\"\n",
              "              title=\"Convert this dataframe to an interactive table.\"\n",
              "              style=\"display:none;\">\n",
              "        \n",
              "  <svg xmlns=\"http://www.w3.org/2000/svg\" height=\"24px\"viewBox=\"0 0 24 24\"\n",
              "       width=\"24px\">\n",
              "    <path d=\"M0 0h24v24H0V0z\" fill=\"none\"/>\n",
              "    <path d=\"M18.56 5.44l.94 2.06.94-2.06 2.06-.94-2.06-.94-.94-2.06-.94 2.06-2.06.94zm-11 1L8.5 8.5l.94-2.06 2.06-.94-2.06-.94L8.5 2.5l-.94 2.06-2.06.94zm10 10l.94 2.06.94-2.06 2.06-.94-2.06-.94-.94-2.06-.94 2.06-2.06.94z\"/><path d=\"M17.41 7.96l-1.37-1.37c-.4-.4-.92-.59-1.43-.59-.52 0-1.04.2-1.43.59L10.3 9.45l-7.72 7.72c-.78.78-.78 2.05 0 2.83L4 21.41c.39.39.9.59 1.41.59.51 0 1.02-.2 1.41-.59l7.78-7.78 2.81-2.81c.8-.78.8-2.07 0-2.86zM5.41 20L4 18.59l7.72-7.72 1.47 1.35L5.41 20z\"/>\n",
              "  </svg>\n",
              "      </button>\n",
              "      \n",
              "  <style>\n",
              "    .colab-df-container {\n",
              "      display:flex;\n",
              "      flex-wrap:wrap;\n",
              "      gap: 12px;\n",
              "    }\n",
              "\n",
              "    .colab-df-convert {\n",
              "      background-color: #E8F0FE;\n",
              "      border: none;\n",
              "      border-radius: 50%;\n",
              "      cursor: pointer;\n",
              "      display: none;\n",
              "      fill: #1967D2;\n",
              "      height: 32px;\n",
              "      padding: 0 0 0 0;\n",
              "      width: 32px;\n",
              "    }\n",
              "\n",
              "    .colab-df-convert:hover {\n",
              "      background-color: #E2EBFA;\n",
              "      box-shadow: 0px 1px 2px rgba(60, 64, 67, 0.3), 0px 1px 3px 1px rgba(60, 64, 67, 0.15);\n",
              "      fill: #174EA6;\n",
              "    }\n",
              "\n",
              "    [theme=dark] .colab-df-convert {\n",
              "      background-color: #3B4455;\n",
              "      fill: #D2E3FC;\n",
              "    }\n",
              "\n",
              "    [theme=dark] .colab-df-convert:hover {\n",
              "      background-color: #434B5C;\n",
              "      box-shadow: 0px 1px 3px 1px rgba(0, 0, 0, 0.15);\n",
              "      filter: drop-shadow(0px 1px 2px rgba(0, 0, 0, 0.3));\n",
              "      fill: #FFFFFF;\n",
              "    }\n",
              "  </style>\n",
              "\n",
              "      <script>\n",
              "        const buttonEl =\n",
              "          document.querySelector('#df-c9115c6d-3051-418e-a68a-c5742e2512d0 button.colab-df-convert');\n",
              "        buttonEl.style.display =\n",
              "          google.colab.kernel.accessAllowed ? 'block' : 'none';\n",
              "\n",
              "        async function convertToInteractive(key) {\n",
              "          const element = document.querySelector('#df-c9115c6d-3051-418e-a68a-c5742e2512d0');\n",
              "          const dataTable =\n",
              "            await google.colab.kernel.invokeFunction('convertToInteractive',\n",
              "                                                     [key], {});\n",
              "          if (!dataTable) return;\n",
              "\n",
              "          const docLinkHtml = 'Like what you see? Visit the ' +\n",
              "            '<a target=\"_blank\" href=https://colab.research.google.com/notebooks/data_table.ipynb>data table notebook</a>'\n",
              "            + ' to learn more about interactive tables.';\n",
              "          element.innerHTML = '';\n",
              "          dataTable['output_type'] = 'display_data';\n",
              "          await google.colab.output.renderOutput(dataTable, element);\n",
              "          const docLink = document.createElement('div');\n",
              "          docLink.innerHTML = docLinkHtml;\n",
              "          element.appendChild(docLink);\n",
              "        }\n",
              "      </script>\n",
              "    </div>\n",
              "  </div>\n",
              "  "
            ]
          },
          "metadata": {},
          "execution_count": 7
        }
      ]
    },
    {
      "cell_type": "markdown",
      "source": [
        "Vamos explorar um pouco mais do Pandas. Vamos pedir para o Pandas mostrar quantos registros existem para cada tipo de Iris."
      ],
      "metadata": {
        "id": "Ff0A4Ecm1rm1"
      }
    },
    {
      "cell_type": "code",
      "source": [
        "df['classe'].value_counts()"
      ],
      "metadata": {
        "colab": {
          "base_uri": "https://localhost:8080/"
        },
        "id": "AIs_OQke1raO",
        "outputId": "97aa851d-f447-4be4-d9a7-b704ddc47ea3"
      },
      "execution_count": null,
      "outputs": [
        {
          "output_type": "execute_result",
          "data": {
            "text/plain": [
              "Iris-setosa        50\n",
              "Iris-versicolor    50\n",
              "Iris-virginica     50\n",
              "Name: classe, dtype: int64"
            ]
          },
          "metadata": {},
          "execution_count": 8
        }
      ]
    },
    {
      "cell_type": "markdown",
      "source": [
        "Continuando o estudo para ver levemento o potencial do Pandas, vamos pedir para ele nos mostrar o resultado acima no gráfico.\n",
        "Grafico em pizza (***pie***)"
      ],
      "metadata": {
        "id": "UZV9e-MC2Sua"
      }
    },
    {
      "cell_type": "code",
      "source": [
        "df['classe'].value_counts().plot(kind='pie');"
      ],
      "metadata": {
        "colab": {
          "base_uri": "https://localhost:8080/",
          "height": 248
        },
        "id": "PK4MTIpP2ag2",
        "outputId": "3b7413fd-ed35-4e19-9f21-97fb8728de31"
      },
      "execution_count": null,
      "outputs": [
        {
          "output_type": "display_data",
          "data": {
            "text/plain": [
              "<Figure size 432x288 with 1 Axes>"
            ],
            "image/png": "[encoded data removed]"
          },
          "metadata": {}
        }
      ]
    },
    {
      "cell_type": "markdown",
      "source": [
        "Gráfico de barras (***bar***)"
      ],
      "metadata": {
        "id": "d89NFbiB2s8S"
      }
    },
    {
      "cell_type": "code",
      "source": [
        "df['classe'].value_counts().plot(kind='bar');"
      ],
      "metadata": {
        "colab": {
          "base_uri": "https://localhost:8080/",
          "height": 323
        },
        "id": "OD7OPOjn2wIC",
        "outputId": "27e296e8-4ac7-4ca8-d58a-ac60320e0faa"
      },
      "execution_count": null,
      "outputs": [
        {
          "output_type": "display_data",
          "data": {
            "text/plain": [
              "<Figure size 432x288 with 1 Axes>"
            ],
            "image/png": "[encoded data removed]"
          },
          "metadata": {
            "needs_background": "light"
          }
        }
      ]
    },
    {
      "cell_type": "markdown",
      "source": [
        "Vamos continuar estudando o petencial do Pandas. Para isso, vamos utilizar funções que analisam valores numéricos. Veremos o máximo, o mínimo e a média."
      ],
      "metadata": {
        "id": "oOyLtTLC3S-j"
      }
    },
    {
      "cell_type": "code",
      "source": [
        "print(f\"Menor valor da coluna alturaSepala: {df['alturaSepala'].min()}\")\n",
        "print(f\"Maior valor da coluna alturaSepala: {df['alturaSepala'].max()}\")\n",
        "print(f\"Altura da coluna alturaSepala: {df['alturaSepala'].mean()}\")"
      ],
      "metadata": {
        "colab": {
          "base_uri": "https://localhost:8080/"
        },
        "id": "IU2Dr2Oh4o-K",
        "outputId": "b7b4d885-98b2-4e12-c195-354862e4bb28"
      },
      "execution_count": null,
      "outputs": [
        {
          "output_type": "stream",
          "name": "stdout",
          "text": [
            "Menor valor da coluna alturaSepala: 4.3\n",
            "Maior valor da coluna alturaSepala: 7.9\n",
            "Altura da coluna alturaSepala: 5.843333333333335\n"
          ]
        }
      ]
    },
    {
      "cell_type": "markdown",
      "source": [
        "Vamos criar duas colunas novas a partir da combinação de colunas existentes. No caso, vamos criar as colunas ***areaSepala*** e ***areaPetala***"
      ],
      "metadata": {
        "id": "963ptYUG51GX"
      }
    },
    {
      "cell_type": "code",
      "source": [
        "df['areaSepala'] = df['alturaSepala'] * df['larguraSepala']\n",
        "df['areaPetala'] = df['alturaPetala'] * df['larguraPetala']\n",
        "df.head()"
      ],
      "metadata": {
        "colab": {
          "base_uri": "https://localhost:8080/",
          "height": 206
        },
        "id": "ctrAk6MI6E3B",
        "outputId": "233d9aab-042b-4ef7-9d3e-3ff553d79b8e"
      },
      "execution_count": null,
      "outputs": [
        {
          "output_type": "execute_result",
          "data": {
            "text/plain": [
              "   alturaSepala  larguraSepala  alturaPetala  larguraPetala       classe  \\\n",
              "0           5.1            3.5           1.4            0.2  Iris-setosa   \n",
              "1           4.9            3.0           1.4            0.2  Iris-setosa   \n",
              "2           4.7            3.2           1.3            0.2  Iris-setosa   \n",
              "3           4.6            3.1           1.5            0.2  Iris-setosa   \n",
              "4           5.0            3.6           1.4            0.2  Iris-setosa   \n",
              "\n",
              "   areaSepala  areaPetala  \n",
              "0       17.85        0.28  \n",
              "1       14.70        0.28  \n",
              "2       15.04        0.26  \n",
              "3       14.26        0.30  \n",
              "4       18.00        0.28  "
            ],
            "text/html": [
              "\n",
              "  <div id=\"df-3c7df65a-6983-4992-ba7b-554b2a22c7c8\">\n",
              "    <div class=\"colab-df-container\">\n",
              "      <div>\n",
              "<style scoped>\n",
              "    .dataframe tbody tr th:only-of-type {\n",
              "        vertical-align: middle;\n",
              "    }\n",
              "\n",
              "    .dataframe tbody tr th {\n",
              "        vertical-align: top;\n",
              "    }\n",
              "\n",
              "    .dataframe thead th {\n",
              "        text-align: right;\n",
              "    }\n",
              "</style>\n",
              "<table border=\"1\" class=\"dataframe\">\n",
              "  <thead>\n",
              "    <tr style=\"text-align: right;\">\n",
              "      <th></th>\n",
              "      <th>alturaSepala</th>\n",
              "      <th>larguraSepala</th>\n",
              "      <th>alturaPetala</th>\n",
              "      <th>larguraPetala</th>\n",
              "      <th>classe</th>\n",
              "      <th>areaSepala</th>\n",
              "      <th>areaPetala</th>\n",
              "    </tr>\n",
              "  </thead>\n",
              "  <tbody>\n",
              "    <tr>\n",
              "      <th>0</th>\n",
              "      <td>5.1</td>\n",
              "      <td>3.5</td>\n",
              "      <td>1.4</td>\n",
              "      <td>0.2</td>\n",
              "      <td>Iris-setosa</td>\n",
              "      <td>17.85</td>\n",
              "      <td>0.28</td>\n",
              "    </tr>\n",
              "    <tr>\n",
              "      <th>1</th>\n",
              "      <td>4.9</td>\n",
              "      <td>3.0</td>\n",
              "      <td>1.4</td>\n",
              "      <td>0.2</td>\n",
              "      <td>Iris-setosa</td>\n",
              "      <td>14.70</td>\n",
              "      <td>0.28</td>\n",
              "    </tr>\n",
              "    <tr>\n",
              "      <th>2</th>\n",
              "      <td>4.7</td>\n",
              "      <td>3.2</td>\n",
              "      <td>1.3</td>\n",
              "      <td>0.2</td>\n",
              "      <td>Iris-setosa</td>\n",
              "      <td>15.04</td>\n",
              "      <td>0.26</td>\n",
              "    </tr>\n",
              "    <tr>\n",
              "      <th>3</th>\n",
              "      <td>4.6</td>\n",
              "      <td>3.1</td>\n",
              "      <td>1.5</td>\n",
              "      <td>0.2</td>\n",
              "      <td>Iris-setosa</td>\n",
              "      <td>14.26</td>\n",
              "      <td>0.30</td>\n",
              "    </tr>\n",
              "    <tr>\n",
              "      <th>4</th>\n",
              "      <td>5.0</td>\n",
              "      <td>3.6</td>\n",
              "      <td>1.4</td>\n",
              "      <td>0.2</td>\n",
              "      <td>Iris-setosa</td>\n",
              "      <td>18.00</td>\n",
              "      <td>0.28</td>\n",
              "    </tr>\n",
              "  </tbody>\n",
              "</table>\n",
              "</div>\n",
              "      <button class=\"colab-df-convert\" onclick=\"convertToInteractive('df-3c7df65a-6983-4992-ba7b-554b2a22c7c8')\"\n",
              "              title=\"Convert this dataframe to an interactive table.\"\n",
              "              style=\"display:none;\">\n",
              "        \n",
              "  <svg xmlns=\"http://www.w3.org/2000/svg\" height=\"24px\"viewBox=\"0 0 24 24\"\n",
              "       width=\"24px\">\n",
              "    <path d=\"M0 0h24v24H0V0z\" fill=\"none\"/>\n",
              "    <path d=\"M18.56 5.44l.94 2.06.94-2.06 2.06-.94-2.06-.94-.94-2.06-.94 2.06-2.06.94zm-11 1L8.5 8.5l.94-2.06 2.06-.94-2.06-.94L8.5 2.5l-.94 2.06-2.06.94zm10 10l.94 2.06.94-2.06 2.06-.94-2.06-.94-.94-2.06-.94 2.06-2.06.94z\"/><path d=\"M17.41 7.96l-1.37-1.37c-.4-.4-.92-.59-1.43-.59-.52 0-1.04.2-1.43.59L10.3 9.45l-7.72 7.72c-.78.78-.78 2.05 0 2.83L4 21.41c.39.39.9.59 1.41.59.51 0 1.02-.2 1.41-.59l7.78-7.78 2.81-2.81c.8-.78.8-2.07 0-2.86zM5.41 20L4 18.59l7.72-7.72 1.47 1.35L5.41 20z\"/>\n",
              "  </svg>\n",
              "      </button>\n",
              "      \n",
              "  <style>\n",
              "    .colab-df-container {\n",
              "      display:flex;\n",
              "      flex-wrap:wrap;\n",
              "      gap: 12px;\n",
              "    }\n",
              "\n",
              "    .colab-df-convert {\n",
              "      background-color: #E8F0FE;\n",
              "      border: none;\n",
              "      border-radius: 50%;\n",
              "      cursor: pointer;\n",
              "      display: none;\n",
              "      fill: #1967D2;\n",
              "      height: 32px;\n",
              "      padding: 0 0 0 0;\n",
              "      width: 32px;\n",
              "    }\n",
              "\n",
              "    .colab-df-convert:hover {\n",
              "      background-color: #E2EBFA;\n",
              "      box-shadow: 0px 1px 2px rgba(60, 64, 67, 0.3), 0px 1px 3px 1px rgba(60, 64, 67, 0.15);\n",
              "      fill: #174EA6;\n",
              "    }\n",
              "\n",
              "    [theme=dark] .colab-df-convert {\n",
              "      background-color: #3B4455;\n",
              "      fill: #D2E3FC;\n",
              "    }\n",
              "\n",
              "    [theme=dark] .colab-df-convert:hover {\n",
              "      background-color: #434B5C;\n",
              "      box-shadow: 0px 1px 3px 1px rgba(0, 0, 0, 0.15);\n",
              "      filter: drop-shadow(0px 1px 2px rgba(0, 0, 0, 0.3));\n",
              "      fill: #FFFFFF;\n",
              "    }\n",
              "  </style>\n",
              "\n",
              "      <script>\n",
              "        const buttonEl =\n",
              "          document.querySelector('#df-3c7df65a-6983-4992-ba7b-554b2a22c7c8 button.colab-df-convert');\n",
              "        buttonEl.style.display =\n",
              "          google.colab.kernel.accessAllowed ? 'block' : 'none';\n",
              "\n",
              "        async function convertToInteractive(key) {\n",
              "          const element = document.querySelector('#df-3c7df65a-6983-4992-ba7b-554b2a22c7c8');\n",
              "          const dataTable =\n",
              "            await google.colab.kernel.invokeFunction('convertToInteractive',\n",
              "                                                     [key], {});\n",
              "          if (!dataTable) return;\n",
              "\n",
              "          const docLinkHtml = 'Like what you see? Visit the ' +\n",
              "            '<a target=\"_blank\" href=https://colab.research.google.com/notebooks/data_table.ipynb>data table notebook</a>'\n",
              "            + ' to learn more about interactive tables.';\n",
              "          element.innerHTML = '';\n",
              "          dataTable['output_type'] = 'display_data';\n",
              "          await google.colab.output.renderOutput(dataTable, element);\n",
              "          const docLink = document.createElement('div');\n",
              "          docLink.innerHTML = docLinkHtml;\n",
              "          element.appendChild(docLink);\n",
              "        }\n",
              "      </script>\n",
              "    </div>\n",
              "  </div>\n",
              "  "
            ]
          },
          "metadata": {},
          "execution_count": 12
        }
      ]
    },
    {
      "cell_type": "markdown",
      "source": [
        "Até aqui exploramos os dados com o ***Pandas***. Agora vamos inicar a aplicação de conceitos típicos de IA. Para isso, vamos separara as variáveis INDEPENDENTES das DEPENDENTES.\n",
        "\n"
      ],
      "metadata": {
        "id": "LJngvzJq6jqL"
      }
    },
    {
      "cell_type": "code",
      "source": [
        "varIndependentes = df.columns.difference(['classe'], sort=False)\n",
        "x = df[varIndependentes].values\n",
        "y = df['classe'].values"
      ],
      "metadata": {
        "id": "0xdZLc0ICVFr"
      },
      "execution_count": null,
      "outputs": []
    },
    {
      "cell_type": "markdown",
      "source": [
        "Uma vez que separamos as variáveis independentes das dependentes, vamos inicar a 'magia'. O primeiro passo é importar a biblioteca que comtempla os algoritmos de IA."
      ],
      "metadata": {
        "id": "aXyHUEp8Dxut"
      }
    },
    {
      "cell_type": "code",
      "source": [
        "from sklearn.tree import DecisionTreeClassifier"
      ],
      "metadata": {
        "id": "1NPEMuFCD-vP"
      },
      "execution_count": null,
      "outputs": []
    },
    {
      "cell_type": "markdown",
      "source": [
        "Uma vez que o componente que costruirá a árvore foi importado, vamos criar um objeto que ficará responsável pela criação da árvore."
      ],
      "metadata": {
        "id": "6BARKu56FFX2"
      }
    },
    {
      "cell_type": "code",
      "source": [
        "objClassificador = DecisionTreeClassifier(random_state=10, criterion='gini', max_depth=2)"
      ],
      "metadata": {
        "id": "oqjYXfD6FRYl"
      },
      "execution_count": null,
      "outputs": []
    },
    {
      "cell_type": "markdown",
      "source": [
        "Uma vez que o objeto que construirá a árvore de decisão foi criado, vamos partir para o treinamento (geração da árvore). No ***sklearn***, os treinamentos ocorrem, normalmento, por meio da chamada da função ***fit()***."
      ],
      "metadata": {
        "id": "zji27xk4G5Uy"
      }
    },
    {
      "cell_type": "code",
      "source": [
        "objClassificador.fit(x, y)"
      ],
      "metadata": {
        "colab": {
          "base_uri": "https://localhost:8080/"
        },
        "id": "s06BgkiDHOwb",
        "outputId": "61c485d9-f6f5-40af-a410-2ce401f21c0e"
      },
      "execution_count": null,
      "outputs": [
        {
          "output_type": "execute_result",
          "data": {
            "text/plain": [
              "DecisionTreeClassifier(max_depth=2, random_state=10)"
            ]
          },
          "metadata": {},
          "execution_count": 16
        }
      ]
    },
    {
      "cell_type": "markdown",
      "source": [
        "Agora que a árvore foi gerada, vamos vê-la!"
      ],
      "metadata": {
        "id": "44Y3wCAYHd-V"
      }
    },
    {
      "cell_type": "code",
      "source": [
        "from IPython.display import Image  \n",
        "from sklearn import tree\n",
        "import pydotplus\n",
        "\n",
        "# Create DOT data\n",
        "dot_data = tree.export_graphviz(objClassificador, out_file=None, \n",
        "                                feature_names=varIndependentes,  \n",
        "                                class_names=df.classe.unique())\n",
        "\n",
        "# Draw graph\n",
        "graph = pydotplus.graph_from_dot_data(dot_data)  \n",
        "\n",
        "# Show graph\n",
        "Image(graph.create_png())"
      ],
      "metadata": {
        "colab": {
          "base_uri": "https://localhost:8080/",
          "height": 436
        },
        "id": "0xrKyOqMHleu",
        "outputId": "05e4e9a9-e3d5-4e1e-fc87-d2f7ab37262d"
      },
      "execution_count": null,
      "outputs": [
        {
          "output_type": "execute_result",
          "data": {
            "text/plain": [
              "<IPython.core.display.Image object>"
            ],
            "image/png": "[encoded data removed]"
          },
          "metadata": {},
          "execution_count": 17
        }
      ]
    },
    {
      "cell_type": "markdown",
      "source": [
        "Uma vez que a árvore de decisão foi criada, vamos utilizá-la para previsão de \n",
        "Iris com medidas que ela nunca viu anteriormente."
      ],
      "metadata": {
        "id": "vwFCrjOwtAUG"
      }
    },
    {
      "cell_type": "code",
      "source": [
        "iris1 = [5.1,3.5,1.4,0.2,17.85,0.28]  # setosa\n",
        "iris2 = [7.0, 3.2, 4.7,1.4,22.4,6.58] # versicolor\n",
        "iris3 = [7.2,3.6,6.1,2.5,25.92,15.25] # virginica\n",
        "iris4 = [5.0,2.4,1.8,0.2,12.0,0.36]   # ?????\n",
        "conjuntoIris = pd.DataFrame([iris1,iris2,iris3,iris4],columns = varIndependentes)\n",
        "objClassificador.predict(conjuntoIris) # Prevê a espécie baseado nas medidas"
      ],
      "metadata": {
        "colab": {
          "base_uri": "https://localhost:8080/"
        },
        "id": "wukxl3bKtNPF",
        "outputId": "50fa65d0-57c4-4b83-c227-66779bbf61e9"
      },
      "execution_count": null,
      "outputs": [
        {
          "output_type": "stream",
          "name": "stderr",
          "text": [
            "/usr/local/lib/python3.7/dist-packages/sklearn/base.py:444: UserWarning: X has feature names, but DecisionTreeClassifier was fitted without feature names\n",
            "  f\"X has feature names, but {self.__class__.__name__} was fitted without\"\n"
          ]
        },
        {
          "output_type": "execute_result",
          "data": {
            "text/plain": [
              "array(['Iris-setosa', 'Iris-versicolor', 'Iris-virginica', 'Iris-setosa'],\n",
              "      dtype=object)"
            ]
          },
          "metadata": {},
          "execution_count": 25
        }
      ]
    },
    {
      "cell_type": "markdown",
      "source": [
        "Até o momento, utilizamos TODOS os 150 registros de Iris para o treinamento. No entanto, para evitar ***overfitting***, vamos separar 10% dos registros para testar o modelo após o treinamento. O ***sklearn*** oferece um componente que faz essa separação, é o ***train_test_split.***"
      ],
      "metadata": {
        "id": "RYZFQG5ry3Uz"
      }
    },
    {
      "cell_type": "code",
      "source": [
        "from sklearn.model_selection import train_test_split\n",
        "x_train, x_test, y_train, y_test = train_test_split(x, y, test_size=0.15)\n",
        "print(\"Qtd. de registros separados para treinamento:\", len(x_train))\n",
        "print(\"Qtd. de registros separados para teste:\", len(x_test))\n"
      ],
      "metadata": {
        "colab": {
          "base_uri": "https://localhost:8080/"
        },
        "id": "3SDJg9lezFHg",
        "outputId": "d503ebfd-3c50-4bdb-b4d7-51fa2bd6a127"
      },
      "execution_count": null,
      "outputs": [
        {
          "output_type": "stream",
          "name": "stdout",
          "text": [
            "Qtd. de registros separados para treinamento: 127\n",
            "Qtd. de registros separados para teste: 23\n"
          ]
        }
      ]
    },
    {
      "cell_type": "markdown",
      "source": [
        "Agora que estamos ficando Jedis na IA, vamos utilizar os registros de treinamento para treinar o modelo. Para isso, utilizaremos os valores de ***x_train*** e ***y_train***."
      ],
      "metadata": {
        "id": "3C7AnPnN1V8m"
      }
    },
    {
      "cell_type": "code",
      "source": [
        "from sklearn.tree import DecisionTreeClassifier as dtc\n",
        "objClassificador2 = dtc(criterion=\"entropy\",max_depth=2)\n",
        "objClassificador2.fit(x_train,y_train)"
      ],
      "metadata": {
        "colab": {
          "base_uri": "https://localhost:8080/"
        },
        "id": "1Hcty5A91eJ8",
        "outputId": "6177540b-ddb9-4f31-a782-f19694d532b2"
      },
      "execution_count": null,
      "outputs": [
        {
          "output_type": "execute_result",
          "data": {
            "text/plain": [
              "DecisionTreeClassifier(criterion='entropy', max_depth=2)"
            ]
          },
          "metadata": {},
          "execution_count": 35
        }
      ]
    },
    {
      "cell_type": "markdown",
      "source": [
        "Vamos ver como ficou a árvore gerada apenas com os dados de treinamento."
      ],
      "metadata": {
        "id": "0ioiPHxk1lKj"
      }
    },
    {
      "cell_type": "code",
      "source": [
        "from IPython.display import Image  \n",
        "from sklearn import tree\n",
        "import pydotplus\n",
        "\n",
        "# Create DOT data\n",
        "dot_data = tree.export_graphviz(objClassificador2, out_file=None, \n",
        "                                feature_names=varIndependentes,  \n",
        "                                class_names=df.classe.unique())\n",
        "\n",
        "# Draw graph\n",
        "graph = pydotplus.graph_from_dot_data(dot_data)  \n",
        "\n",
        "# Show graph\n",
        "Image(graph.create_png())"
      ],
      "metadata": {
        "colab": {
          "base_uri": "https://localhost:8080/",
          "height": 436
        },
        "id": "OC5pB1qU1sKW",
        "outputId": "2b0316d9-cde0-4b47-ac85-ef98cdff7254"
      },
      "execution_count": null,
      "outputs": [
        {
          "output_type": "execute_result",
          "data": {
            "text/plain": [
              "<IPython.core.display.Image object>"
            ],
            "image/png": "[encoded data removed]"
          },
          "metadata": {},
          "execution_count": 39
        }
      ]
    },
    {
      "cell_type": "markdown",
      "source": [
        "Agora que a árvore foi gerada com os dados de treinamento, vamos ver a sua performance ao avaliar os dados separados para teste."
      ],
      "metadata": {
        "id": "qBDj-4IN3HqH"
      }
    },
    {
      "cell_type": "code",
      "source": [
        "#print(x_test)\n",
        "#print(y_test)\n",
        "from sklearn.metrics import accuracy_score\n",
        "y_pred = objClassificador2.predict(x_test)\n",
        "precisao = accuracy_score(y_test, y_pred)\n",
        "print(\"A acurácia do modelo foi:\", precisao)"
      ],
      "metadata": {
        "colab": {
          "base_uri": "https://localhost:8080/"
        },
        "id": "rGbk3xcN3Iav",
        "outputId": "180c4bcf-d82f-441f-d534-029f1f75b90d"
      },
      "execution_count": null,
      "outputs": [
        {
          "output_type": "stream",
          "name": "stdout",
          "text": [
            "A acurácia do modelo foi: 1.0\n"
          ]
        }
      ]
    }
  ]
}